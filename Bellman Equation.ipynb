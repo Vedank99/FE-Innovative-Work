{
 "cells": [
  {
   "cell_type": "code",
   "execution_count": 28,
   "metadata": {},
   "outputs": [],
   "source": [
    "def solveBellmanEquation(r,P,S,n,I):\n",
    "    E = []\n",
    "    E.append(S[0][0])\n",
    "    for i in range(1,n):\n",
    "        e = 0\n",
    "        for j in range(len(S[i])):\n",
    "            val = 0\n",
    "            if S[i][j] < I:\n",
    "                val = I-S[i][j]\n",
    "            e = e + P[i][j]*val\n",
    "        E.append(e)\n",
    "    \n",
    "    V = []\n",
    "    V.append(E[n-1])\n",
    "    \n",
    "    i = n-2\n",
    "    j = 0\n",
    "        \n",
    "    while i >=0 :\n",
    "        val = 0\n",
    "        for k in range(len(S[i])):\n",
    "            val = val + P[i][k]*S[i][k]\n",
    "        \n",
    "        if I - val > V[j]/(1+r):\n",
    "            V.append(I-val)\n",
    "        else:\n",
    "            V.append(V[j]/(1+r))        \n",
    "        j = j+1\n",
    "        i = i-1\n",
    "        \n",
    "    for i in range(len(V)):\n",
    "        print(V[i])\n",
    "    return"
   ]
  },
  {
   "cell_type": "code",
   "execution_count": 29,
   "metadata": {},
   "outputs": [
    {
     "name": "stdout",
     "output_type": "stream",
     "text": [
      "2.6852150000000017\n",
      "2.5022370000000005\n",
      "3.755390000000001\n",
      "3.5863370000000003\n",
      "4.486639000000001\n",
      "BREAK\n",
      "4.486639000000001\n",
      "4.078762727272728\n",
      "3.7079661157024795\n",
      "3.370878287002254\n",
      "3.064434806365685\n",
      "2.7858498239688045\n"
     ]
    }
   ],
   "source": [
    "r = 0.1\n",
    "P = [[1],\n",
    "    [0.5073,0.4927],\n",
    "     [0.2573,0.4998,0.2427],\n",
    "     [0.1305,0.3803,0.3694,0.119],\n",
    "     [0.0662,0.2572,0.3748,0.2427,0.0586],\n",
    "     [0.0335,0.1630,0.3165,0.3071,0.1490,0.0288]]\n",
    "S = [[50],\n",
    "    [56.12,44.55],\n",
    "    [62.99,50.00,39.69],\n",
    "    [70.70,56.12,44.55,35.36],\n",
    "    [79.35,62.99,50.00,39.69,31.50],\n",
    "    [89.07,70.70,56.12,44.55,35.36,28.07]]\n",
    "n = 6\n",
    "I = 50\n",
    "solveBellmanEquation(r,P,S,n,I)"
   ]
  },
  {
   "cell_type": "code",
   "execution_count": null,
   "metadata": {},
   "outputs": [],
   "source": []
  }
 ],
 "metadata": {
  "kernelspec": {
   "display_name": "Python 3",
   "language": "python",
   "name": "python3"
  },
  "language_info": {
   "codemirror_mode": {
    "name": "ipython",
    "version": 3
   },
   "file_extension": ".py",
   "mimetype": "text/x-python",
   "name": "python",
   "nbconvert_exporter": "python",
   "pygments_lexer": "ipython3",
   "version": "3.6.8"
  }
 },
 "nbformat": 4,
 "nbformat_minor": 4
}
